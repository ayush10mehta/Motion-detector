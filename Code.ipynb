{
 "cells": [
  {
   "cell_type": "code",
   "execution_count": 1,
   "metadata": {},
   "outputs": [],
   "source": [
    "import cv2\n",
    "import os\n",
    "import simpleaudio as sa"
   ]
  },
  {
   "cell_type": "code",
   "execution_count": null,
   "metadata": {},
   "outputs": [],
   "source": [
    "cap=cv2.VideoCapture(0)\n",
    "#Setting up the height and width of the camera output\n",
    "cap.set(3,400)#3 id for width\n",
    "cap.set(4,400)#4 id for height\n",
    "cap.set(10,100 )\n",
    "while True:\n",
    "    success, img1= cap.read() #reading the image\n",
    "    success, img2= cap.read()\n",
    "    \n",
    "    diff= cv2.absdiff(img1,img2) #Difference between image to detect motion\n",
    "    \n",
    "    gray=cv2.cvtColor(diff,cv2.COLOR_RGB2GRAY) #converting it into gray\n",
    "    \n",
    "    blur=cv2.GaussianBlur(gray,(5,5),0) #bluring image\n",
    "    \n",
    "    _, thresh= cv2.threshold(blur,25,255,cv2.THRESH_BINARY) #sharpning the image, removing noise\n",
    "    \n",
    "    dilated=cv2.dilate(thresh,None,iterations=3) #opposite of threshold\n",
    "    \n",
    "    contours,_ = cv2.findContours(dilated,cv2.RETR_TREE,cv2.CHAIN_APPROX_SIMPLE)\n",
    "    \n",
    "    #cv2.drawContours(img1,contours,-1,(255,0,0),2 ) #-1 means drawing all the contours\n",
    "    #very small movement is also detected and contour is drawn but we need contour to be drawn for larg movements\n",
    "    \n",
    "    for c in contours:\n",
    "        if cv2.contourArea(c) < 5000:  #this will ignore the small contours\n",
    "            continue\n",
    "        #getting the dimensions of larger contours\n",
    "        x,y,w,h=cv2.boundingRect(c) #getting the rectangle dimensions\n",
    "        cv2.rectangle(img1,(x,y),(x+w,y+h),(255,0,0),2)  #contour will be bounded by the rectangle using this function\n",
    "        #print('playing sound using native player')\n",
    "        #os.system(\"mpg123 \" + file)\n",
    "        wave_obj = sa.WaveObject.from_wave_file(\"alert.wav\")\n",
    "        play_obj = wave_obj.play()\n",
    "        \n",
    "    if cv2.waitKey(1) & 0xFF == ord(\"q\"):\n",
    "        break\n",
    "    cv2.imshow(\"video\",img1)"
   ]
  },
  {
   "cell_type": "code",
   "execution_count": null,
   "metadata": {},
   "outputs": [],
   "source": []
  }
 ],
 "metadata": {
  "kernelspec": {
   "display_name": "Python 3",
   "language": "python",
   "name": "python3"
  },
  "language_info": {
   "codemirror_mode": {
    "name": "ipython",
    "version": 3
   },
   "file_extension": ".py",
   "mimetype": "text/x-python",
   "name": "python",
   "nbconvert_exporter": "python",
   "pygments_lexer": "ipython3",
   "version": "3.8.5"
  }
 },
 "nbformat": 4,
 "nbformat_minor": 4
}
